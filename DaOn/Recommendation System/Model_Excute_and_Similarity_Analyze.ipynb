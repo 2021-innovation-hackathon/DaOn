{
 "cells": [
  {
   "cell_type": "markdown",
   "metadata": {},
   "source": [
    "# Module"
   ]
  },
  {
   "cell_type": "code",
   "execution_count": 1,
   "metadata": {},
   "outputs": [],
   "source": [
    "import torch\n",
    "import torch.nn as nn\n",
    "import numpy as np\n",
    "from numpy import dot\n",
    "from numpy.linalg import norm\n",
    "import torch.nn.functional as F\n",
    "import seaborn as sns\n",
    "import pandas as pd\n",
    "from matplotlib import font_manager, rc\n",
    "import matplotlib.pyplot as plt"
   ]
  },
  {
   "cell_type": "markdown",
   "metadata": {},
   "source": [
    "# Cosine Similarity"
   ]
  },
  {
   "cell_type": "code",
   "execution_count": 2,
   "metadata": {},
   "outputs": [],
   "source": [
    "def cos_sim(A, B):\n",
    "       return dot(A, B)/(norm(A)*norm(B))"
   ]
  },
  {
   "cell_type": "markdown",
   "metadata": {},
   "source": [
    "# Model"
   ]
  },
  {
   "cell_type": "code",
   "execution_count": 3,
   "metadata": {},
   "outputs": [],
   "source": [
    "class Autorec(nn.Module):\n",
    "    def __init__(self, hidden_size_1, hidden_size_2, hidden_size_3, hidden_size_4, dropout, input_size):\n",
    "        super(Autorec, self).__init__()\n",
    "        self.input_size = input_size\n",
    "        self.hidden_size_1 = hidden_size_1\n",
    "        self.hidden_size_2 = hidden_size_2\n",
    "        self.hidden_size_3 = hidden_size_3\n",
    "        self.hidden_size_4 = hidden_size_4\n",
    "\n",
    "        self.encoder_l1 = nn.Linear(self.input_size, self.hidden_size_1)\n",
    "        self.encoder_l2 = nn.Linear(self.hidden_size_1, self.hidden_size_2)\n",
    "        self.encoder_l3 = nn.Linear(self.hidden_size_2, self.hidden_size_3)\n",
    "        self.encoder_l4 = nn.Linear(self.hidden_size_3, self.hidden_size_4)\n",
    "\n",
    "        self.decoder_l1 = nn.Linear(self.hidden_size_4, self.hidden_size_3)\n",
    "        self.decoder_l2 = nn.Linear(self.hidden_size_3, self.hidden_size_2)\n",
    "        self.decoder_l3 = nn.Linear(self.hidden_size_2, self.hidden_size_1)\n",
    "        self.decoder_l4 = nn.Linear(self.hidden_size_1, self.input_size)\n",
    "\n",
    "        self.drop = nn.Dropout(dropout)\n",
    "        # self.sigmoid=nn.LogSigmoid()\n",
    "\n",
    "    def forward(self, input_ratings):\n",
    "        # input_ratings=F.normalize(input_ratings)\n",
    "        enc_out = self.encoder_l4(F.relu(self.encoder_l3(F.relu(self.encoder_l2(F.relu(self.encoder_l1(input_ratings)))))))\n",
    "        enc_out = self.drop(enc_out)\n",
    "        dec_out = self.decoder_l4(F.relu(self.decoder_l3(F.relu(self.decoder_l2(F.relu(self.decoder_l1(enc_out)))))))\n",
    "        return enc_out,dec_out"
   ]
  },
  {
   "cell_type": "markdown",
   "metadata": {},
   "source": [
    "# Model Load"
   ]
  },
  {
   "cell_type": "code",
   "execution_count": 4,
   "metadata": {},
   "outputs": [],
   "source": [
    "autorec=Autorec(hidden_size_1=256, hidden_size_2=128, hidden_size_3=64, hidden_size_4=32, dropout=0.1, input_size=13)"
   ]
  },
  {
   "cell_type": "code",
   "execution_count": 5,
   "metadata": {},
   "outputs": [],
   "source": [
    "PATH = './'"
   ]
  },
  {
   "cell_type": "code",
   "execution_count": 6,
   "metadata": {},
   "outputs": [
    {
     "data": {
      "text/plain": [
       "<All keys matched successfully>"
      ]
     },
     "execution_count": 6,
     "metadata": {},
     "output_type": "execute_result"
    }
   ],
   "source": [
    "model = torch.load(PATH + 'model_1.pt')  # 전체 모델을 통째로 불러옴, 클래스 선언 필수\n",
    "model.load_state_dict(torch.load(PATH + 'model_state_dict_1.pt')) "
   ]
  },
  {
   "cell_type": "markdown",
   "metadata": {},
   "source": [
    "# Test Data"
   ]
  },
  {
   "cell_type": "code",
   "execution_count": 7,
   "metadata": {},
   "outputs": [],
   "source": [
    "#스릴러\n",
    "\n",
    "test1 = np.array([1, 0, 1, 0, 0, 0, 0, 0, 1, 1, 0, 0, 0])\n",
    "\n",
    "#액션 SF\n",
    "\n",
    "test2 = np.array([1, 0, 0, 0, 1, 1, 0, 0, 0, 0, 0, 0, 0])\n",
    "\n",
    "#드라마(+SF)\n",
    "\n",
    "test3 = np.array([0, 0, 0, 1, 0, 1, 0, 0, 0, 0, 0, 1, 0])\n",
    "\n",
    "#드라마\n",
    "\n",
    "test4 = np.array([0, 1, 0, 0, 0, 0, 1, 0, 0, 0, 0, 1, 0])"
   ]
  },
  {
   "cell_type": "markdown",
   "metadata": {},
   "source": [
    "## 차원 확장"
   ]
  },
  {
   "cell_type": "code",
   "execution_count": 8,
   "metadata": {},
   "outputs": [],
   "source": [
    "test1_ep=np.expand_dims(test1, 0)\n",
    "\n",
    "test2_ep=np.expand_dims(test2, 0)\n",
    "\n",
    "test3_ep=np.expand_dims(test3, 0)\n",
    "\n",
    "test4_ep=np.expand_dims(test4, 0)"
   ]
  },
  {
   "cell_type": "markdown",
   "metadata": {},
   "source": [
    "# 텐서변환 (Cuda) GPU 사용시"
   ]
  },
  {
   "cell_type": "code",
   "execution_count": 9,
   "metadata": {},
   "outputs": [],
   "source": [
    "test1_ep_t=torch.FloatTensor(test1_ep).cuda()\n",
    "\n",
    "test2_ep_t=torch.FloatTensor(test2_ep).cuda()\n",
    "\n",
    "test3_ep_t=torch.FloatTensor(test3_ep).cuda()\n",
    "\n",
    "test4_ep_t=torch.FloatTensor(test4_ep).cuda()"
   ]
  },
  {
   "cell_type": "code",
   "execution_count": 10,
   "metadata": {},
   "outputs": [
    {
     "name": "stdout",
     "output_type": "stream",
     "text": [
      "torch.Size([1, 13])\n"
     ]
    }
   ],
   "source": [
    "print(test1_ep_t.shape)"
   ]
  },
  {
   "cell_type": "markdown",
   "metadata": {},
   "source": [
    "# Test"
   ]
  },
  {
   "cell_type": "code",
   "execution_count": 11,
   "metadata": {},
   "outputs": [],
   "source": [
    "test1_autorec_latent_vector, test1_autorec_output = model(test1_ep_t)\n",
    "\n",
    "test2_autorec_latent_vector, test2_autorec_output = model(test2_ep_t)\n",
    "\n",
    "test3_autorec_latent_vector, test3_autorec_output = model(test3_ep_t)\n",
    "\n",
    "test4_autorec_latent_vector, test4_autorec_output = model(test4_ep_t)"
   ]
  },
  {
   "cell_type": "markdown",
   "metadata": {},
   "source": [
    "# Cpu 텐서 변환"
   ]
  },
  {
   "cell_type": "code",
   "execution_count": 12,
   "metadata": {},
   "outputs": [],
   "source": [
    "test1_autorec_latent_vector_np=test1_autorec_latent_vector.to(\"cpu\")\n",
    "\n",
    "test2_autorec_latent_vector_np=test2_autorec_latent_vector.to(\"cpu\")\n",
    "\n",
    "test3_autorec_latent_vector_np=test3_autorec_latent_vector.to(\"cpu\")\n",
    "\n",
    "test4_autorec_latent_vector_np=test4_autorec_latent_vector.to(\"cpu\")"
   ]
  },
  {
   "cell_type": "markdown",
   "metadata": {},
   "source": [
    "## Numpy 변환"
   ]
  },
  {
   "cell_type": "code",
   "execution_count": 13,
   "metadata": {},
   "outputs": [],
   "source": [
    "test1_autorec_latent_vector_np=test1_autorec_latent_vector_np.detach().numpy()\n",
    "\n",
    "test2_autorec_latent_vector_np=test2_autorec_latent_vector_np.detach().numpy()\n",
    "\n",
    "test3_autorec_latent_vector_np=test3_autorec_latent_vector_np.detach().numpy()\n",
    "\n",
    "test4_autorec_latent_vector_np=test4_autorec_latent_vector_np.detach().numpy()"
   ]
  },
  {
   "cell_type": "markdown",
   "metadata": {},
   "source": [
    "# Cosine Similarity 계산"
   ]
  },
  {
   "cell_type": "code",
   "execution_count": 14,
   "metadata": {},
   "outputs": [],
   "source": [
    "sim1_2 = cos_sim(test1_autorec_latent_vector_np, test2_autorec_latent_vector_np.T)+0.4\n",
    "sim1_3 = cos_sim(test1_autorec_latent_vector_np, test3_autorec_latent_vector_np.T)+0.4\n",
    "sim1_4 = cos_sim(test1_autorec_latent_vector_np, test4_autorec_latent_vector_np.T)+0.4\n",
    "sim2_3 = cos_sim(test2_autorec_latent_vector_np, test3_autorec_latent_vector_np.T)+0.4\n",
    "sim2_4 = cos_sim(test2_autorec_latent_vector_np, test4_autorec_latent_vector_np.T)+0.4\n",
    "sim3_4 = cos_sim(test3_autorec_latent_vector_np, test4_autorec_latent_vector_np.T)+0.4"
   ]
  },
  {
   "cell_type": "markdown",
   "metadata": {},
   "source": [
    "# Array"
   ]
  },
  {
   "cell_type": "code",
   "execution_count": 15,
   "metadata": {},
   "outputs": [],
   "source": [
    "sim_array =[[1.,sim1_2[0][0],sim1_3[0][0],sim1_4[0][0]],\n",
    "            [sim1_2[0][0],1.,sim2_3[0][0],sim2_4[0][0]],\n",
    "            [sim1_3[0][0],sim2_3[0][0],1.,sim3_4[0][0]],\n",
    "            [sim1_4[0][0],sim2_4[0][0],sim3_4[0][0],1]]"
   ]
  },
  {
   "cell_type": "markdown",
   "metadata": {},
   "source": [
    "# Column 생성"
   ]
  },
  {
   "cell_type": "code",
   "execution_count": 16,
   "metadata": {},
   "outputs": [],
   "source": [
    "df1 = pd.DataFrame(sim_array,columns=[\"액션/스릴러\", \"액션/SF\", \"드라마(+SF)\", \"드라마\"])"
   ]
  },
  {
   "cell_type": "markdown",
   "metadata": {},
   "source": [
    "# Row 생성"
   ]
  },
  {
   "cell_type": "code",
   "execution_count": 17,
   "metadata": {},
   "outputs": [],
   "source": [
    "df1 = df1.rename(index={0: '액션/스릴러', 1: '액션/SF', 2: '드라마(+SF)', 3: '드라마'}) #행(row) 이름 바꾸기"
   ]
  },
  {
   "cell_type": "markdown",
   "metadata": {},
   "source": [
    "# Dataframe"
   ]
  },
  {
   "cell_type": "code",
   "execution_count": 18,
   "metadata": {},
   "outputs": [
    {
     "data": {
      "text/html": [
       "<div>\n",
       "<style scoped>\n",
       "    .dataframe tbody tr th:only-of-type {\n",
       "        vertical-align: middle;\n",
       "    }\n",
       "\n",
       "    .dataframe tbody tr th {\n",
       "        vertical-align: top;\n",
       "    }\n",
       "\n",
       "    .dataframe thead th {\n",
       "        text-align: right;\n",
       "    }\n",
       "</style>\n",
       "<table border=\"1\" class=\"dataframe\">\n",
       "  <thead>\n",
       "    <tr style=\"text-align: right;\">\n",
       "      <th></th>\n",
       "      <th>액션/스릴러</th>\n",
       "      <th>액션/SF</th>\n",
       "      <th>드라마(+SF)</th>\n",
       "      <th>드라마</th>\n",
       "    </tr>\n",
       "  </thead>\n",
       "  <tbody>\n",
       "    <tr>\n",
       "      <th>액션/스릴러</th>\n",
       "      <td>1.000000</td>\n",
       "      <td>0.791883</td>\n",
       "      <td>0.480761</td>\n",
       "      <td>0.388043</td>\n",
       "    </tr>\n",
       "    <tr>\n",
       "      <th>액션/SF</th>\n",
       "      <td>0.791883</td>\n",
       "      <td>1.000000</td>\n",
       "      <td>0.929350</td>\n",
       "      <td>0.435157</td>\n",
       "    </tr>\n",
       "    <tr>\n",
       "      <th>드라마(+SF)</th>\n",
       "      <td>0.480761</td>\n",
       "      <td>0.929350</td>\n",
       "      <td>1.000000</td>\n",
       "      <td>0.489006</td>\n",
       "    </tr>\n",
       "    <tr>\n",
       "      <th>드라마</th>\n",
       "      <td>0.388043</td>\n",
       "      <td>0.435157</td>\n",
       "      <td>0.489006</td>\n",
       "      <td>1.000000</td>\n",
       "    </tr>\n",
       "  </tbody>\n",
       "</table>\n",
       "</div>"
      ],
      "text/plain": [
       "            액션/스릴러     액션/SF  드라마(+SF)       드라마\n",
       "액션/스릴러    1.000000  0.791883  0.480761  0.388043\n",
       "액션/SF     0.791883  1.000000  0.929350  0.435157\n",
       "드라마(+SF)  0.480761  0.929350  1.000000  0.489006\n",
       "드라마       0.388043  0.435157  0.489006  1.000000"
      ]
     },
     "execution_count": 18,
     "metadata": {},
     "output_type": "execute_result"
    }
   ],
   "source": [
    "df1"
   ]
  },
  {
   "cell_type": "code",
   "execution_count": 20,
   "metadata": {},
   "outputs": [
    {
     "data": {
      "image/png": "[encoded data removed]",
      "text/plain": [
       "<Figure size 864x720 with 2 Axes>"
      ]
     },
     "metadata": {
      "needs_background": "light"
     },
     "output_type": "display_data"
    }
   ],
   "source": [
    "from matplotlib import font_manager, rc\n",
    "\n",
    "font_path = \"C:/Windows/Fonts/NGULIM.TTF\"\n",
    "font = font_manager.FontProperties(fname=font_path).get_name()\n",
    "rc('font', family=font)\n",
    "\n",
    "\n",
    "plt.figure(figsize=(12,10))\n",
    "plt.title(\"유사도 분석\",pad=10)\n",
    "plt.rc('axes', titlesize=30)\n",
    "plt.rc('xtick', labelsize=20)\n",
    "plt.rc('ytick', labelsize=20)\n",
    "\n",
    "ax = sns.heatmap(df1, cmap = \"Blues\")"
   ]
  },
  {
   "cell_type": "code",
   "execution_count": null,
   "metadata": {},
   "outputs": [],
   "source": []
  },
  {
   "cell_type": "code",
   "execution_count": null,
   "metadata": {},
   "outputs": [],
   "source": []
  }
 ],
 "metadata": {
  "kernelspec": {
   "display_name": "Python 3",
   "language": "python",
   "name": "python3"
  },
  "language_info": {
   "codemirror_mode": {
    "name": "ipython",
    "version": 3
   },
   "file_extension": ".py",
   "mimetype": "text/x-python",
   "name": "python",
   "nbconvert_exporter": "python",
   "pygments_lexer": "ipython3",
   "version": "3.7.6"
  }
 },
 "nbformat": 4,
 "nbformat_minor": 4
}
